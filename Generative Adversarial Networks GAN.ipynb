{
 "cells": [
  {
   "cell_type": "code",
   "execution_count": 59,
   "id": "ec9dbd55",
   "metadata": {},
   "outputs": [],
   "source": [
    "import pandas as pd\n",
    "import numpy as np\n",
    "import matplotlib.pyplot as plt"
   ]
  },
  {
   "cell_type": "code",
   "execution_count": 60,
   "id": "93c8860a",
   "metadata": {},
   "outputs": [],
   "source": [
    "from tensorflow.keras.datasets import mnist"
   ]
  },
  {
   "cell_type": "code",
   "execution_count": 61,
   "id": "7ea5a268",
   "metadata": {},
   "outputs": [],
   "source": [
    "(X_train, y_train), (X_test, y_test) = mnist.load_data()"
   ]
  },
  {
   "cell_type": "code",
   "execution_count": 62,
   "id": "e506f2db",
   "metadata": {},
   "outputs": [
    {
     "data": {
      "text/plain": [
       "<matplotlib.image.AxesImage at 0x25b1857c108>"
      ]
     },
     "execution_count": 62,
     "metadata": {},
     "output_type": "execute_result"
    },
    {
     "data": {
      "image/png": "[encoded data removed]",
      "text/plain": [
       "<Figure size 640x480 with 1 Axes>"
      ]
     },
     "metadata": {},
     "output_type": "display_data"
    }
   ],
   "source": [
    "plt.imshow(X_train[0])"
   ]
  },
  {
   "cell_type": "code",
   "execution_count": 63,
   "id": "09ec7368",
   "metadata": {},
   "outputs": [
    {
     "data": {
      "text/plain": [
       "array([5, 0, 4, ..., 5, 6, 8], dtype=uint8)"
      ]
     },
     "execution_count": 63,
     "metadata": {},
     "output_type": "execute_result"
    }
   ],
   "source": [
    "y_train"
   ]
  },
  {
   "cell_type": "code",
   "execution_count": 64,
   "id": "32e1c19b",
   "metadata": {},
   "outputs": [],
   "source": [
    "only_zeros = X_train[y_train==0]"
   ]
  },
  {
   "cell_type": "code",
   "execution_count": 65,
   "id": "c7d250d1",
   "metadata": {},
   "outputs": [
    {
     "data": {
      "text/plain": [
       "(5923, 28, 28)"
      ]
     },
     "execution_count": 65,
     "metadata": {},
     "output_type": "execute_result"
    }
   ],
   "source": [
    "only_zeros.shape"
   ]
  },
  {
   "cell_type": "code",
   "execution_count": 66,
   "id": "25c7bc2d",
   "metadata": {},
   "outputs": [
    {
     "data": {
      "text/plain": [
       "<matplotlib.image.AxesImage at 0x25b1a394d08>"
      ]
     },
     "execution_count": 66,
     "metadata": {},
     "output_type": "execute_result"
    },
    {
     "data": {
      "image/png": "[encoded data removed]",
      "text/plain": [
       "<Figure size 640x480 with 1 Axes>"
      ]
     },
     "metadata": {},
     "output_type": "display_data"
    }
   ],
   "source": [
    "plt.imshow(only_zeros[1436])"
   ]
  },
  {
   "cell_type": "code",
   "execution_count": 67,
   "id": "41a20dfe",
   "metadata": {},
   "outputs": [],
   "source": [
    "import tensorflow as tf\n",
    "from tensorflow.keras.layers import Dense,Reshape,Flatten\n",
    "from tensorflow.keras.models import Sequential"
   ]
  },
  {
   "cell_type": "code",
   "execution_count": 68,
   "id": "85196b1a",
   "metadata": {},
   "outputs": [],
   "source": [
    "discr=Sequential()\n",
    "\n",
    "discr.add(Flatten(input_shape=[28,28]))\n",
    "\n",
    "discr.add(Dense(150,activation='relu'))\n",
    "discr.add(Dense(100,activation='relu'))\n",
    "discr.add(Dense(1,activation='sigmoid'))\n",
    "\n",
    "discr.compile(loss='binary_crossentropy',optimizer='adam')"
   ]
  },
  {
   "cell_type": "code",
   "execution_count": 69,
   "id": "64e49681",
   "metadata": {},
   "outputs": [],
   "source": [
    "coding_size=100"
   ]
  },
  {
   "cell_type": "code",
   "execution_count": 70,
   "id": "cff16938",
   "metadata": {},
   "outputs": [],
   "source": [
    "generator=Sequential()\n",
    "\n",
    "generator.add(Dense(100,activation='relu',input_shape=[coding_size]))\n",
    "generator.add(Dense(150,activation='relu'))\n",
    "generator.add(Dense(784,activation='relu'))\n",
    "\n",
    "generator.add(Reshape([28,28]))\n"
   ]
  },
  {
   "cell_type": "code",
   "execution_count": 71,
   "id": "fe4e9e68",
   "metadata": {},
   "outputs": [],
   "source": [
    "GAN=Sequential([generator,discr])"
   ]
  },
  {
   "cell_type": "code",
   "execution_count": 72,
   "id": "2b9b89f1",
   "metadata": {},
   "outputs": [],
   "source": [
    "discr.trainable=False"
   ]
  },
  {
   "cell_type": "code",
   "execution_count": 73,
   "id": "5d433b1a",
   "metadata": {},
   "outputs": [],
   "source": [
    "GAN.compile(loss='binary_crossentropy',optimizer='adam')"
   ]
  },
  {
   "cell_type": "code",
   "execution_count": 74,
   "id": "75065776",
   "metadata": {},
   "outputs": [
    {
     "name": "stdout",
     "output_type": "stream",
     "text": [
      "Model: \"sequential_6\"\n",
      "_________________________________________________________________\n",
      "Layer (type)                 Output Shape              Param #   \n",
      "=================================================================\n",
      "dense_12 (Dense)             (None, 100)               10100     \n",
      "_________________________________________________________________\n",
      "dense_13 (Dense)             (None, 150)               15150     \n",
      "_________________________________________________________________\n",
      "dense_14 (Dense)             (None, 784)               118384    \n",
      "_________________________________________________________________\n",
      "reshape_1 (Reshape)          (None, 28, 28)            0         \n",
      "=================================================================\n",
      "Total params: 143,634\n",
      "Trainable params: 143,634\n",
      "Non-trainable params: 0\n",
      "_________________________________________________________________\n"
     ]
    }
   ],
   "source": [
    "GAN.layers[0].summary()"
   ]
  },
  {
   "cell_type": "code",
   "execution_count": 75,
   "id": "9d3672e8",
   "metadata": {},
   "outputs": [
    {
     "name": "stdout",
     "output_type": "stream",
     "text": [
      "Model: \"sequential_5\"\n",
      "_________________________________________________________________\n",
      "Layer (type)                 Output Shape              Param #   \n",
      "=================================================================\n",
      "flatten_2 (Flatten)          (None, 784)               0         \n",
      "_________________________________________________________________\n",
      "dense_9 (Dense)              (None, 150)               117750    \n",
      "_________________________________________________________________\n",
      "dense_10 (Dense)             (None, 100)               15100     \n",
      "_________________________________________________________________\n",
      "dense_11 (Dense)             (None, 1)                 101       \n",
      "=================================================================\n",
      "Total params: 132,951\n",
      "Trainable params: 0\n",
      "Non-trainable params: 132,951\n",
      "_________________________________________________________________\n"
     ]
    }
   ],
   "source": [
    "GAN.layers[1].summary()"
   ]
  },
  {
   "cell_type": "code",
   "execution_count": 76,
   "id": "ac694ac8",
   "metadata": {},
   "outputs": [
    {
     "data": {
      "text/plain": [
       "[<tensorflow.python.keras.layers.core.Dense at 0x25b17c978c8>,\n",
       " <tensorflow.python.keras.layers.core.Dense at 0x25b17c97988>,\n",
       " <tensorflow.python.keras.layers.core.Dense at 0x25b17c9f908>,\n",
       " <tensorflow.python.keras.layers.core.Reshape at 0x25b17b31388>]"
      ]
     },
     "execution_count": 76,
     "metadata": {},
     "output_type": "execute_result"
    }
   ],
   "source": [
    "GAN.layers[0].layers"
   ]
  },
  {
   "cell_type": "code",
   "execution_count": 77,
   "id": "cc8716ad",
   "metadata": {},
   "outputs": [
    {
     "data": {
      "text/plain": [
       "[<tensorflow.python.keras.layers.core.Flatten at 0x25b17c76dc8>,\n",
       " <tensorflow.python.keras.layers.core.Dense at 0x25b17c76e48>,\n",
       " <tensorflow.python.keras.layers.core.Dense at 0x25b17c77888>,\n",
       " <tensorflow.python.keras.layers.core.Dense at 0x25b17c7c0c8>]"
      ]
     },
     "execution_count": 77,
     "metadata": {},
     "output_type": "execute_result"
    }
   ],
   "source": [
    "GAN.layers[1].layers"
   ]
  },
  {
   "cell_type": "code",
   "execution_count": 78,
   "id": "1efef5fe",
   "metadata": {},
   "outputs": [],
   "source": [
    "batch_size=32"
   ]
  },
  {
   "cell_type": "code",
   "execution_count": 79,
   "id": "41e8fd17",
   "metadata": {},
   "outputs": [],
   "source": [
    "my_data=only_zeros"
   ]
  },
  {
   "cell_type": "code",
   "execution_count": 80,
   "id": "2417ce6e",
   "metadata": {},
   "outputs": [],
   "source": [
    "dataset=tf.data.Dataset.from_tensor_slices(my_data).shuffle(buffer_size=1000)"
   ]
  },
  {
   "cell_type": "code",
   "execution_count": 81,
   "id": "4f19520c",
   "metadata": {},
   "outputs": [
    {
     "data": {
      "text/plain": [
       "tensorflow.python.data.ops.dataset_ops.ShuffleDataset"
      ]
     },
     "execution_count": 81,
     "metadata": {},
     "output_type": "execute_result"
    }
   ],
   "source": [
    "type(dataset)"
   ]
  },
  {
   "cell_type": "code",
   "execution_count": 82,
   "id": "741b7de4",
   "metadata": {},
   "outputs": [],
   "source": [
    "dataset=dataset.batch(batch_size,drop_remainder=True).prefetch(1)"
   ]
  },
  {
   "cell_type": "code",
   "execution_count": 93,
   "id": "c40f40ad",
   "metadata": {},
   "outputs": [],
   "source": [
    "epochs=10"
   ]
  },
  {
   "cell_type": "code",
   "execution_count": 94,
   "id": "c1d982fb",
   "metadata": {},
   "outputs": [
    {
     "name": "stdout",
     "output_type": "stream",
     "text": [
      "Currently on epoch 1\n",
      "\t Currently on batch number 100 of 185\n",
      "Currently on epoch 2\n",
      "\t Currently on batch number 100 of 185\n",
      "Currently on epoch 3\n",
      "\t Currently on batch number 100 of 185\n",
      "Currently on epoch 4\n",
      "\t Currently on batch number 100 of 185\n",
      "Currently on epoch 5\n",
      "\t Currently on batch number 100 of 185\n",
      "Currently on epoch 6\n",
      "\t Currently on batch number 100 of 185\n",
      "Currently on epoch 7\n",
      "\t Currently on batch number 100 of 185\n",
      "Currently on epoch 8\n",
      "\t Currently on batch number 100 of 185\n",
      "Currently on epoch 9\n",
      "\t Currently on batch number 100 of 185\n",
      "Currently on epoch 10\n",
      "\t Currently on batch number 100 of 185\n"
     ]
    }
   ],
   "source": [
    "generator , discr = GAN.layers\n",
    "for epoch in range(epochs):\n",
    "    print(f'Currently on epoch {epoch+1}')\n",
    "    i=0\n",
    "    for X_batch in dataset:\n",
    "        i=i+1\n",
    "        if i%100 == 0:\n",
    "            print (f'\\t Currently on batch number {i} of {len(my_data)//batch_size}')\n",
    "        \n",
    "        \n",
    "        noise = tf.random.normal(shape = [batch_size,coding_size])\n",
    "        gen_images = generator(noise)\n",
    "        X_fake_vs_real = tf.concat([gen_images,tf.dtypes.cast(X_batch,tf.float32)],axis=0)\n",
    "        y1=tf.constant([[0.0]]*batch_size + [[1.0]]*batch_size)\n",
    "        discr.trainable=True\n",
    "        discr.train_on_batch(X_fake_vs_real,y1)\n",
    "        \n",
    "        noise = tf.random.normal(shape = [batch_size,coding_size])\n",
    "        y2=tf.constant([[1.0]]*batch_size)\n",
    "        discr.trainable=False\n",
    "        GAN.train_on_batch(noise,y2)\n",
    "        \n",
    "        "
   ]
  },
  {
   "cell_type": "code",
   "execution_count": 95,
   "id": "b11d5118",
   "metadata": {},
   "outputs": [],
   "source": [
    "noise = tf.random.normal(shape=[10, coding_size])"
   ]
  },
  {
   "cell_type": "code",
   "execution_count": 96,
   "id": "becca676",
   "metadata": {},
   "outputs": [
    {
     "data": {
      "text/plain": [
       "TensorShape([10, 100])"
      ]
     },
     "execution_count": 96,
     "metadata": {},
     "output_type": "execute_result"
    }
   ],
   "source": [
    "noise.shape"
   ]
  },
  {
   "cell_type": "code",
   "execution_count": 97,
   "id": "d194ff8c",
   "metadata": {},
   "outputs": [
    {
     "data": {
      "text/plain": [
       "<matplotlib.image.AxesImage at 0x25b209bbfc8>"
      ]
     },
     "execution_count": 97,
     "metadata": {},
     "output_type": "execute_result"
    },
    {
     "data": {
      "image/png": "[encoded data removed]",
      "text/plain": [
       "<Figure size 640x480 with 1 Axes>"
      ]
     },
     "metadata": {},
     "output_type": "display_data"
    }
   ],
   "source": [
    "plt.imshow(noise)"
   ]
  },
  {
   "cell_type": "code",
   "execution_count": 98,
   "id": "05ede8e1",
   "metadata": {},
   "outputs": [],
   "source": [
    "image_pic=generator(noise)"
   ]
  },
  {
   "cell_type": "code",
   "execution_count": 102,
   "id": "3e130386",
   "metadata": {},
   "outputs": [
    {
     "data": {
      "text/plain": [
       "<matplotlib.image.AxesImage at 0x25b20acb308>"
      ]
     },
     "execution_count": 102,
     "metadata": {},
     "output_type": "execute_result"
    },
    {
     "data": {
      "image/png": "[encoded data removed]",
      "text/plain": [
       "<Figure size 640x480 with 1 Axes>"
      ]
     },
     "metadata": {},
     "output_type": "display_data"
    }
   ],
   "source": [
    "plt.imshow(image_pic[4])"
   ]
  },
  {
   "cell_type": "code",
   "execution_count": 103,
   "id": "65a0cbbc",
   "metadata": {},
   "outputs": [
    {
     "data": {
      "text/plain": [
       "<matplotlib.image.AxesImage at 0x25b20b25e88>"
      ]
     },
     "execution_count": 103,
     "metadata": {},
     "output_type": "execute_result"
    },
    {
     "data": {
      "image/png": "[encoded data removed]",
      "text/plain": [
       "<Figure size 640x480 with 1 Axes>"
      ]
     },
     "metadata": {},
     "output_type": "display_data"
    }
   ],
   "source": [
    "plt.imshow(image_pic[7])"
   ]
  },
  {
   "cell_type": "code",
   "execution_count": null,
   "id": "a171ec91",
   "metadata": {},
   "outputs": [],
   "source": []
  }
 ],
 "metadata": {
  "kernelspec": {
   "display_name": "Python 3 (ipykernel)",
   "language": "python",
   "name": "python3"
  },
  "language_info": {
   "codemirror_mode": {
    "name": "ipython",
    "version": 3
   },
   "file_extension": ".py",
   "mimetype": "text/x-python",
   "name": "python",
   "nbconvert_exporter": "python",
   "pygments_lexer": "ipython3",
   "version": "3.7.13"
  }
 },
 "nbformat": 4,
 "nbformat_minor": 5
}
